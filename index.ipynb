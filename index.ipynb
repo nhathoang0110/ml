{
 "nbformat": 4,
 "nbformat_minor": 2,
 "metadata": {
  "language_info": {
   "name": "python",
   "codemirror_mode": {
    "name": "ipython",
    "version": 3
   },
   "version": "3.8.1-final"
  },
  "orig_nbformat": 2,
  "file_extension": ".py",
  "mimetype": "text/x-python",
  "name": "python",
  "npconvert_exporter": "python",
  "pygments_lexer": "ipython3",
  "version": 3,
  "kernelspec": {
   "name": "python3",
   "display_name": "Python 3"
  }
 },
 "cells": [
  {
   "cell_type": "code",
   "execution_count": 94,
   "metadata": {},
   "outputs": [],
   "source": [
    "import pandas as pd\n",
    "import numpy as np  "
   ]
  },
  {
   "cell_type": "code",
   "execution_count": 191,
   "metadata": {},
   "outputs": [],
   "source": [
    "train = pd.read_csv('./data/train.csv')\n",
    "test = pd.read_csv('./data/test.csv')"
   ]
  },
  {
   "cell_type": "code",
   "execution_count": 96,
   "metadata": {},
   "outputs": [
    {
     "output_type": "stream",
     "name": "stdout",
     "text": "Train data shape: (1460, 81)\nTest data shape: (1459, 80)\n"
    }
   ],
   "source": [
    "print (\"Train data shape:\", train.shape)\n",
    "print (\"Test data shape:\", test.shape)"
   ]
  },
  {
   "cell_type": "code",
   "execution_count": 98,
   "metadata": {},
   "outputs": [
    {
     "output_type": "execute_result",
     "data": {
      "text/plain": "   Id  MSSubClass MSZoning  LotFrontage  LotArea Street Alley LotShape  \\\n0   1          60       RL         65.0     8450   Pave   NaN      Reg   \n1   2          20       RL         80.0     9600   Pave   NaN      Reg   \n2   3          60       RL         68.0    11250   Pave   NaN      IR1   \n3   4          70       RL         60.0     9550   Pave   NaN      IR1   \n4   5          60       RL         84.0    14260   Pave   NaN      IR1   \n\n  LandContour Utilities  ... PoolArea PoolQC Fence MiscFeature MiscVal MoSold  \\\n0         Lvl    AllPub  ...        0    NaN   NaN         NaN       0      2   \n1         Lvl    AllPub  ...        0    NaN   NaN         NaN       0      5   \n2         Lvl    AllPub  ...        0    NaN   NaN         NaN       0      9   \n3         Lvl    AllPub  ...        0    NaN   NaN         NaN       0      2   \n4         Lvl    AllPub  ...        0    NaN   NaN         NaN       0     12   \n\n  YrSold  SaleType  SaleCondition  SalePrice  \n0   2008        WD         Normal     208500  \n1   2007        WD         Normal     181500  \n2   2008        WD         Normal     223500  \n3   2006        WD        Abnorml     140000  \n4   2008        WD         Normal     250000  \n\n[5 rows x 81 columns]",
      "text/html": "<div>\n<style scoped>\n    .dataframe tbody tr th:only-of-type {\n        vertical-align: middle;\n    }\n\n    .dataframe tbody tr th {\n        vertical-align: top;\n    }\n\n    .dataframe thead th {\n        text-align: right;\n    }\n</style>\n<table border=\"1\" class=\"dataframe\">\n  <thead>\n    <tr style=\"text-align: right;\">\n      <th></th>\n      <th>Id</th>\n      <th>MSSubClass</th>\n      <th>MSZoning</th>\n      <th>LotFrontage</th>\n      <th>LotArea</th>\n      <th>Street</th>\n      <th>Alley</th>\n      <th>LotShape</th>\n      <th>LandContour</th>\n      <th>Utilities</th>\n      <th>...</th>\n      <th>PoolArea</th>\n      <th>PoolQC</th>\n      <th>Fence</th>\n      <th>MiscFeature</th>\n      <th>MiscVal</th>\n      <th>MoSold</th>\n      <th>YrSold</th>\n      <th>SaleType</th>\n      <th>SaleCondition</th>\n      <th>SalePrice</th>\n    </tr>\n  </thead>\n  <tbody>\n    <tr>\n      <th>0</th>\n      <td>1</td>\n      <td>60</td>\n      <td>RL</td>\n      <td>65.0</td>\n      <td>8450</td>\n      <td>Pave</td>\n      <td>NaN</td>\n      <td>Reg</td>\n      <td>Lvl</td>\n      <td>AllPub</td>\n      <td>...</td>\n      <td>0</td>\n      <td>NaN</td>\n      <td>NaN</td>\n      <td>NaN</td>\n      <td>0</td>\n      <td>2</td>\n      <td>2008</td>\n      <td>WD</td>\n      <td>Normal</td>\n      <td>208500</td>\n    </tr>\n    <tr>\n      <th>1</th>\n      <td>2</td>\n      <td>20</td>\n      <td>RL</td>\n      <td>80.0</td>\n      <td>9600</td>\n      <td>Pave</td>\n      <td>NaN</td>\n      <td>Reg</td>\n      <td>Lvl</td>\n      <td>AllPub</td>\n      <td>...</td>\n      <td>0</td>\n      <td>NaN</td>\n      <td>NaN</td>\n      <td>NaN</td>\n      <td>0</td>\n      <td>5</td>\n      <td>2007</td>\n      <td>WD</td>\n      <td>Normal</td>\n      <td>181500</td>\n    </tr>\n    <tr>\n      <th>2</th>\n      <td>3</td>\n      <td>60</td>\n      <td>RL</td>\n      <td>68.0</td>\n      <td>11250</td>\n      <td>Pave</td>\n      <td>NaN</td>\n      <td>IR1</td>\n      <td>Lvl</td>\n      <td>AllPub</td>\n      <td>...</td>\n      <td>0</td>\n      <td>NaN</td>\n      <td>NaN</td>\n      <td>NaN</td>\n      <td>0</td>\n      <td>9</td>\n      <td>2008</td>\n      <td>WD</td>\n      <td>Normal</td>\n      <td>223500</td>\n    </tr>\n    <tr>\n      <th>3</th>\n      <td>4</td>\n      <td>70</td>\n      <td>RL</td>\n      <td>60.0</td>\n      <td>9550</td>\n      <td>Pave</td>\n      <td>NaN</td>\n      <td>IR1</td>\n      <td>Lvl</td>\n      <td>AllPub</td>\n      <td>...</td>\n      <td>0</td>\n      <td>NaN</td>\n      <td>NaN</td>\n      <td>NaN</td>\n      <td>0</td>\n      <td>2</td>\n      <td>2006</td>\n      <td>WD</td>\n      <td>Abnorml</td>\n      <td>140000</td>\n    </tr>\n    <tr>\n      <th>4</th>\n      <td>5</td>\n      <td>60</td>\n      <td>RL</td>\n      <td>84.0</td>\n      <td>14260</td>\n      <td>Pave</td>\n      <td>NaN</td>\n      <td>IR1</td>\n      <td>Lvl</td>\n      <td>AllPub</td>\n      <td>...</td>\n      <td>0</td>\n      <td>NaN</td>\n      <td>NaN</td>\n      <td>NaN</td>\n      <td>0</td>\n      <td>12</td>\n      <td>2008</td>\n      <td>WD</td>\n      <td>Normal</td>\n      <td>250000</td>\n    </tr>\n  </tbody>\n</table>\n<p>5 rows × 81 columns</p>\n</div>"
     },
     "metadata": {},
     "execution_count": 98
    }
   ],
   "source": [
    "train.head()"
   ]
  },
  {
   "cell_type": "code",
   "execution_count": 1,
   "metadata": {},
   "outputs": [],
   "source": [
    "import matplotlib.pyplot as plt\n",
    "plt.style.use(style='ggplot')\n",
    "plt.rcParams['figure.figsize'] = (10, 6)"
   ]
  },
  {
   "cell_type": "code",
   "execution_count": 101,
   "metadata": {},
   "outputs": [
    {
     "output_type": "execute_result",
     "data": {
      "text/plain": "Id                 int64\nMSSubClass         int64\nLotFrontage      float64\nLotArea            int64\nOverallQual        int64\nOverallCond        int64\nYearBuilt          int64\nYearRemodAdd       int64\nMasVnrArea       float64\nBsmtFinSF1         int64\nBsmtFinSF2         int64\nBsmtUnfSF          int64\nTotalBsmtSF        int64\n1stFlrSF           int64\n2ndFlrSF           int64\nLowQualFinSF       int64\nGrLivArea          int64\nBsmtFullBath       int64\nBsmtHalfBath       int64\nFullBath           int64\nHalfBath           int64\nBedroomAbvGr       int64\nKitchenAbvGr       int64\nTotRmsAbvGrd       int64\nFireplaces         int64\nGarageYrBlt      float64\nGarageCars         int64\nGarageArea         int64\nWoodDeckSF         int64\nOpenPorchSF        int64\nEnclosedPorch      int64\n3SsnPorch          int64\nScreenPorch        int64\nPoolArea           int64\nMiscVal            int64\nMoSold             int64\nYrSold             int64\nSalePrice          int64\ndtype: object"
     },
     "metadata": {},
     "execution_count": 101
    }
   ],
   "source": [
    "numeric_features = train.select_dtypes(include=[np.number])\n",
    "numeric_features.dtypes"
   ]
  },
  {
   "cell_type": "code",
   "execution_count": 102,
   "metadata": {},
   "outputs": [
    {
     "output_type": "execute_result",
     "data": {
      "text/plain": "       MSZoning Street Alley LotShape LandContour Utilities LotConfig  \\\ncount      1460   1460    91     1460        1460      1460      1460   \nunique        5      2     2        4           4         2         5   \ntop          RL   Pave  Grvl      Reg         Lvl    AllPub    Inside   \nfreq       1151   1454    50      925        1311      1459      1052   \n\n       LandSlope Neighborhood Condition1  ... GarageType GarageFinish  \\\ncount       1460         1460       1460  ...       1379         1379   \nunique         3           25          9  ...          6            3   \ntop          Gtl        NAmes       Norm  ...     Attchd          Unf   \nfreq        1382          225       1260  ...        870          605   \n\n       GarageQual GarageCond PavedDrive PoolQC  Fence MiscFeature SaleType  \\\ncount        1379       1379       1460      7    281          54     1460   \nunique          5          5          3      3      4           4        9   \ntop            TA         TA          Y     Gd  MnPrv        Shed       WD   \nfreq         1311       1326       1340      3    157          49     1267   \n\n       SaleCondition  \ncount           1460  \nunique             6  \ntop           Normal  \nfreq            1198  \n\n[4 rows x 43 columns]",
      "text/html": "<div>\n<style scoped>\n    .dataframe tbody tr th:only-of-type {\n        vertical-align: middle;\n    }\n\n    .dataframe tbody tr th {\n        vertical-align: top;\n    }\n\n    .dataframe thead th {\n        text-align: right;\n    }\n</style>\n<table border=\"1\" class=\"dataframe\">\n  <thead>\n    <tr style=\"text-align: right;\">\n      <th></th>\n      <th>MSZoning</th>\n      <th>Street</th>\n      <th>Alley</th>\n      <th>LotShape</th>\n      <th>LandContour</th>\n      <th>Utilities</th>\n      <th>LotConfig</th>\n      <th>LandSlope</th>\n      <th>Neighborhood</th>\n      <th>Condition1</th>\n      <th>...</th>\n      <th>GarageType</th>\n      <th>GarageFinish</th>\n      <th>GarageQual</th>\n      <th>GarageCond</th>\n      <th>PavedDrive</th>\n      <th>PoolQC</th>\n      <th>Fence</th>\n      <th>MiscFeature</th>\n      <th>SaleType</th>\n      <th>SaleCondition</th>\n    </tr>\n  </thead>\n  <tbody>\n    <tr>\n      <th>count</th>\n      <td>1460</td>\n      <td>1460</td>\n      <td>91</td>\n      <td>1460</td>\n      <td>1460</td>\n      <td>1460</td>\n      <td>1460</td>\n      <td>1460</td>\n      <td>1460</td>\n      <td>1460</td>\n      <td>...</td>\n      <td>1379</td>\n      <td>1379</td>\n      <td>1379</td>\n      <td>1379</td>\n      <td>1460</td>\n      <td>7</td>\n      <td>281</td>\n      <td>54</td>\n      <td>1460</td>\n      <td>1460</td>\n    </tr>\n    <tr>\n      <th>unique</th>\n      <td>5</td>\n      <td>2</td>\n      <td>2</td>\n      <td>4</td>\n      <td>4</td>\n      <td>2</td>\n      <td>5</td>\n      <td>3</td>\n      <td>25</td>\n      <td>9</td>\n      <td>...</td>\n      <td>6</td>\n      <td>3</td>\n      <td>5</td>\n      <td>5</td>\n      <td>3</td>\n      <td>3</td>\n      <td>4</td>\n      <td>4</td>\n      <td>9</td>\n      <td>6</td>\n    </tr>\n    <tr>\n      <th>top</th>\n      <td>RL</td>\n      <td>Pave</td>\n      <td>Grvl</td>\n      <td>Reg</td>\n      <td>Lvl</td>\n      <td>AllPub</td>\n      <td>Inside</td>\n      <td>Gtl</td>\n      <td>NAmes</td>\n      <td>Norm</td>\n      <td>...</td>\n      <td>Attchd</td>\n      <td>Unf</td>\n      <td>TA</td>\n      <td>TA</td>\n      <td>Y</td>\n      <td>Gd</td>\n      <td>MnPrv</td>\n      <td>Shed</td>\n      <td>WD</td>\n      <td>Normal</td>\n    </tr>\n    <tr>\n      <th>freq</th>\n      <td>1151</td>\n      <td>1454</td>\n      <td>50</td>\n      <td>925</td>\n      <td>1311</td>\n      <td>1459</td>\n      <td>1052</td>\n      <td>1382</td>\n      <td>225</td>\n      <td>1260</td>\n      <td>...</td>\n      <td>870</td>\n      <td>605</td>\n      <td>1311</td>\n      <td>1326</td>\n      <td>1340</td>\n      <td>3</td>\n      <td>157</td>\n      <td>49</td>\n      <td>1267</td>\n      <td>1198</td>\n    </tr>\n  </tbody>\n</table>\n<p>4 rows × 43 columns</p>\n</div>"
     },
     "metadata": {},
     "execution_count": 102
    }
   ],
   "source": [
    "categoricals = train.select_dtypes(exclude=[np.number])\n",
    "categoricals.describe()"
   ]
  },
  {
   "cell_type": "code",
   "execution_count": 179,
   "metadata": {},
   "outputs": [
    {
     "output_type": "stream",
     "name": "stdout",
     "text": "Pave    1454\nGrvl       6\nName: Street, dtype: int64 \n\n"
    }
   ],
   "source": [
    "print (train.Street.value_counts(), \"\\n\")"
   ]
  },
  {
   "cell_type": "code",
   "execution_count": 135,
   "metadata": {},
   "outputs": [
    {
     "output_type": "stream",
     "name": "stdout",
     "text": "WD       1267\nNew       122\nCOD        43\nConLD       9\nConLI       5\nConLw       5\nCWD         4\nOth         3\nCon         2\nName: SaleType, dtype: int64 \n\n"
    }
   ],
   "source": [
    "print (train.SaleType.value_counts(), \"\\n\")"
   ]
  },
  {
   "cell_type": "code",
   "execution_count": 104,
   "metadata": {},
   "outputs": [
    {
     "output_type": "stream",
     "name": "stdout",
     "text": "Pave\n"
    }
   ],
   "source": [
    "x=train['Street'].value_counts().index.tolist()\n",
    "print(x[0])"
   ]
  },
  {
   "cell_type": "code",
   "execution_count": 180,
   "metadata": {},
   "outputs": [
    {
     "output_type": "stream",
     "name": "stdout",
     "text": "RL         1151\nRM          218\nFV           65\nRH           16\nC (all)      10\nName: MSZoning, dtype: int64 \n\n<class 'pandas.core.frame.DataFrame'>\n"
    }
   ],
   "source": [
    "print (train.MSZoning.value_counts(), \"\\n\")\n",
    "print(type(train))"
   ]
  },
  {
   "cell_type": "code",
   "execution_count": 181,
   "metadata": {},
   "outputs": [
    {
     "output_type": "stream",
     "name": "stdout",
     "text": "SalePrice\nMSZoning           \nC (all)       74700\nRM           120500\nRH           136500\nRL           174000\nFV           205950\n"
    }
   ],
   "source": [
    "a=train.pivot_table(index='MSZoning',values='SalePrice',aggfunc=np.median)\n",
    "b=a.sort_values(by=['SalePrice'])\n",
    "print(b)"
   ]
  },
  {
   "cell_type": "code",
   "execution_count": 186,
   "metadata": {},
   "outputs": [
    {
     "output_type": "stream",
     "name": "stdout",
     "text": "[74700, 120500, 136500, 174000, 205950]\n"
    }
   ],
   "source": [
    "c=b['SalePrice'].index.tolist()\n",
    "d=b['SalePrice'].values.tolist()"
   ]
  },
  {
   "cell_type": "code",
   "execution_count": 187,
   "metadata": {},
   "outputs": [],
   "source": [
    "    y=train['MSZoning'].value_counts().index.tolist()\n",
    "    n=len(y)\n",
    "    def ham(x):\n",
    "        for i in range(len(y)):\n",
    "            if(x == c[i]): return d[i]/d[0]\n",
    "    train['MSZoning']=train['MSZoning'].apply(ham)\n",
    ""
   ]
  },
  {
   "cell_type": "code",
   "execution_count": 190,
   "metadata": {},
   "outputs": [],
   "source": [
    "# condition_pivot = train.pivot_table(index='MSZoning', values='SalePrice', aggfunc=np.median)\n",
    "# condition_pivot.plot(kind='bar', color='blue')\n",
    "# plt.xlabel('MSZoning')\n",
    "# plt.ylabel('Median Sale Price')\n",
    "# plt.xticks(rotation=0)\n",
    "# plt.show()"
   ]
  },
  {
   "cell_type": "code",
   "execution_count": 194,
   "metadata": {},
   "outputs": [],
   "source": [
    "def encode(name):\n",
    "    a=train.pivot_table(index=name,values='SalePrice',aggfunc=np.median)\n",
    "    b=a.sort_values(by=['SalePrice'])\n",
    "    c=b['SalePrice'].index.tolist()\n",
    "    d=b['SalePrice'].values.tolist()\n",
    "    y=train[name].value_counts().index.tolist()\n",
    "    n=len(y)\n",
    "    def ham(x):\n",
    "        for i in range(len(y)):\n",
    "            if(x == c[i]): return d[i]/d[0]\n",
    "    train[name]=train[name].apply(ham)"
   ]
  },
  {
   "cell_type": "code",
   "execution_count": 195,
   "metadata": {},
   "outputs": [],
   "source": [
    "columns=['MSZoning','Street','Alley','LotShape','LandContour','Utilities','LotConfig','LandSlope','Neighborhood','Condition1','Condition2','BldgType','HouseStyle','SaleType','SaleCondition','ExterCond','ExterQual','Foundation','BsmtQual','BsmtCond','BsmtExposure','BsmtFinType1','BsmtFinType2', 'RoofStyle','RoofMatl','Exterior1st','Exterior2nd','MasVnrType','Heating','HeatingQC', 'CentralAir','Electrical','KitchenQual','Functional',\n",
    " 'FireplaceQu','GarageType','GarageFinish','GarageQual','GarageCond','PavedDrive']"
   ]
  },
  {
   "cell_type": "code",
   "execution_count": 196,
   "metadata": {},
   "outputs": [
    {
     "output_type": "execute_result",
     "data": {
      "text/plain": "40"
     },
     "metadata": {},
     "execution_count": 196
    }
   ],
   "source": [
    "len(columns)"
   ]
  },
  {
   "cell_type": "code",
   "execution_count": 198,
   "metadata": {},
   "outputs": [],
   "source": [
    "for i in range(len(columns)):\n",
    "    encode(columns[i])"
   ]
  },
  {
   "cell_type": "code",
   "execution_count": 199,
   "metadata": {},
   "outputs": [
    {
     "output_type": "execute_result",
     "data": {
      "text/plain": "   Id  MSSubClass  MSZoning  LotFrontage  LotArea    Street  Alley  LotShape  \\\n0   1          60  2.329317         65.0     8450  1.426696    NaN  1.000000   \n1   2          20  2.329317         80.0     9600  1.426696    NaN  1.000000   \n2   3          60  2.329317         68.0    11250  1.426696    NaN  1.294521   \n3   4          70  2.329317         60.0     9550  1.426696    NaN  1.294521   \n4   5          60  2.329317         84.0    14260  1.426696    NaN  1.294521   \n\n   LandContour  Utilities  ...  PoolArea  PoolQC  Fence  MiscFeature  MiscVal  \\\n0      1.16858   1.185455  ...         0     NaN    NaN          NaN        0   \n1      1.16858   1.185455  ...         0     NaN    NaN          NaN        0   \n2      1.16858   1.185455  ...         0     NaN    NaN          NaN        0   \n3      1.16858   1.185455  ...         0     NaN    NaN          NaN        0   \n4      1.16858   1.185455  ...         0     NaN    NaN          NaN        0   \n\n   MoSold  YrSold  SaleType  SaleCondition  SalePrice  \n0       2    2008  1.361482       1.538462     208500  \n1       5    2007  1.361482       1.538462     181500  \n2       9    2008  1.361482       1.538462     223500  \n3       2    2006  1.361482       1.250000     140000  \n4      12    2008  1.361482       1.538462     250000  \n\n[5 rows x 81 columns]",
      "text/html": "<div>\n<style scoped>\n    .dataframe tbody tr th:only-of-type {\n        vertical-align: middle;\n    }\n\n    .dataframe tbody tr th {\n        vertical-align: top;\n    }\n\n    .dataframe thead th {\n        text-align: right;\n    }\n</style>\n<table border=\"1\" class=\"dataframe\">\n  <thead>\n    <tr style=\"text-align: right;\">\n      <th></th>\n      <th>Id</th>\n      <th>MSSubClass</th>\n      <th>MSZoning</th>\n      <th>LotFrontage</th>\n      <th>LotArea</th>\n      <th>Street</th>\n      <th>Alley</th>\n      <th>LotShape</th>\n      <th>LandContour</th>\n      <th>Utilities</th>\n      <th>...</th>\n      <th>PoolArea</th>\n      <th>PoolQC</th>\n      <th>Fence</th>\n      <th>MiscFeature</th>\n      <th>MiscVal</th>\n      <th>MoSold</th>\n      <th>YrSold</th>\n      <th>SaleType</th>\n      <th>SaleCondition</th>\n      <th>SalePrice</th>\n    </tr>\n  </thead>\n  <tbody>\n    <tr>\n      <th>0</th>\n      <td>1</td>\n      <td>60</td>\n      <td>2.329317</td>\n      <td>65.0</td>\n      <td>8450</td>\n      <td>1.426696</td>\n      <td>NaN</td>\n      <td>1.000000</td>\n      <td>1.16858</td>\n      <td>1.185455</td>\n      <td>...</td>\n      <td>0</td>\n      <td>NaN</td>\n      <td>NaN</td>\n      <td>NaN</td>\n      <td>0</td>\n      <td>2</td>\n      <td>2008</td>\n      <td>1.361482</td>\n      <td>1.538462</td>\n      <td>208500</td>\n    </tr>\n    <tr>\n      <th>1</th>\n      <td>2</td>\n      <td>20</td>\n      <td>2.329317</td>\n      <td>80.0</td>\n      <td>9600</td>\n      <td>1.426696</td>\n      <td>NaN</td>\n      <td>1.000000</td>\n      <td>1.16858</td>\n      <td>1.185455</td>\n      <td>...</td>\n      <td>0</td>\n      <td>NaN</td>\n      <td>NaN</td>\n      <td>NaN</td>\n      <td>0</td>\n      <td>5</td>\n      <td>2007</td>\n      <td>1.361482</td>\n      <td>1.538462</td>\n      <td>181500</td>\n    </tr>\n    <tr>\n      <th>2</th>\n      <td>3</td>\n      <td>60</td>\n      <td>2.329317</td>\n      <td>68.0</td>\n      <td>11250</td>\n      <td>1.426696</td>\n      <td>NaN</td>\n      <td>1.294521</td>\n      <td>1.16858</td>\n      <td>1.185455</td>\n      <td>...</td>\n      <td>0</td>\n      <td>NaN</td>\n      <td>NaN</td>\n      <td>NaN</td>\n      <td>0</td>\n      <td>9</td>\n      <td>2008</td>\n      <td>1.361482</td>\n      <td>1.538462</td>\n      <td>223500</td>\n    </tr>\n    <tr>\n      <th>3</th>\n      <td>4</td>\n      <td>70</td>\n      <td>2.329317</td>\n      <td>60.0</td>\n      <td>9550</td>\n      <td>1.426696</td>\n      <td>NaN</td>\n      <td>1.294521</td>\n      <td>1.16858</td>\n      <td>1.185455</td>\n      <td>...</td>\n      <td>0</td>\n      <td>NaN</td>\n      <td>NaN</td>\n      <td>NaN</td>\n      <td>0</td>\n      <td>2</td>\n      <td>2006</td>\n      <td>1.361482</td>\n      <td>1.250000</td>\n      <td>140000</td>\n    </tr>\n    <tr>\n      <th>4</th>\n      <td>5</td>\n      <td>60</td>\n      <td>2.329317</td>\n      <td>84.0</td>\n      <td>14260</td>\n      <td>1.426696</td>\n      <td>NaN</td>\n      <td>1.294521</td>\n      <td>1.16858</td>\n      <td>1.185455</td>\n      <td>...</td>\n      <td>0</td>\n      <td>NaN</td>\n      <td>NaN</td>\n      <td>NaN</td>\n      <td>0</td>\n      <td>12</td>\n      <td>2008</td>\n      <td>1.361482</td>\n      <td>1.538462</td>\n      <td>250000</td>\n    </tr>\n  </tbody>\n</table>\n<p>5 rows × 81 columns</p>\n</div>"
     },
     "metadata": {},
     "execution_count": 199
    }
   ],
   "source": [
    "train.head()"
   ]
  },
  {
   "cell_type": "code",
   "execution_count": 200,
   "metadata": {},
   "outputs": [],
   "source": [
    "train.to_csv('train2.csv')"
   ]
  }
 ]
}