{
 "nbformat": 4,
 "nbformat_minor": 2,
 "metadata": {
  "language_info": {
   "name": "python",
   "codemirror_mode": {
    "name": "ipython",
    "version": 3
   },
   "version": "3.8.1-final"
  },
  "orig_nbformat": 2,
  "file_extension": ".py",
  "mimetype": "text/x-python",
  "name": "python",
  "npconvert_exporter": "python",
  "pygments_lexer": "ipython3",
  "version": 3,
  "kernelspec": {
   "name": "python3",
   "display_name": "Python 3"
  }
 },
 "cells": [
  {
   "cell_type": "code",
   "execution_count": 1,
   "metadata": {},
   "outputs": [],
   "source": [
    "import pandas as pd\n",
    "import numpy as np  "
   ]
  },
  {
   "cell_type": "code",
   "execution_count": 2,
   "metadata": {},
   "outputs": [],
   "source": [
    "train = pd.read_csv('./data/train.csv')\n",
    "test = pd.read_csv('./data/test.csv')"
   ]
  },
  {
   "cell_type": "code",
   "execution_count": 3,
   "metadata": {},
   "outputs": [
    {
     "output_type": "stream",
     "name": "stdout",
     "text": "Train data shape: (1460, 81)\nTest data shape: (1459, 80)\n"
    }
   ],
   "source": [
    "print (\"Train data shape:\", train.shape)\n",
    "print (\"Test data shape:\", test.shape)"
   ]
  },
  {
   "cell_type": "code",
   "execution_count": 4,
   "metadata": {},
   "outputs": [
    {
     "output_type": "execute_result",
     "data": {
      "text/plain": "   Id  MSSubClass MSZoning  LotFrontage  LotArea Street Alley LotShape  \\\n0   1          60       RL         65.0     8450   Pave   NaN      Reg   \n1   2          20       RL         80.0     9600   Pave   NaN      Reg   \n2   3          60       RL         68.0    11250   Pave   NaN      IR1   \n3   4          70       RL         60.0     9550   Pave   NaN      IR1   \n4   5          60       RL         84.0    14260   Pave   NaN      IR1   \n\n  LandContour Utilities  ... PoolArea PoolQC Fence MiscFeature MiscVal MoSold  \\\n0         Lvl    AllPub  ...        0    NaN   NaN         NaN       0      2   \n1         Lvl    AllPub  ...        0    NaN   NaN         NaN       0      5   \n2         Lvl    AllPub  ...        0    NaN   NaN         NaN       0      9   \n3         Lvl    AllPub  ...        0    NaN   NaN         NaN       0      2   \n4         Lvl    AllPub  ...        0    NaN   NaN         NaN       0     12   \n\n  YrSold  SaleType  SaleCondition  SalePrice  \n0   2008        WD         Normal     208500  \n1   2007        WD         Normal     181500  \n2   2008        WD         Normal     223500  \n3   2006        WD        Abnorml     140000  \n4   2008        WD         Normal     250000  \n\n[5 rows x 81 columns]",
      "text/html": "<div>\n<style scoped>\n    .dataframe tbody tr th:only-of-type {\n        vertical-align: middle;\n    }\n\n    .dataframe tbody tr th {\n        vertical-align: top;\n    }\n\n    .dataframe thead th {\n        text-align: right;\n    }\n</style>\n<table border=\"1\" class=\"dataframe\">\n  <thead>\n    <tr style=\"text-align: right;\">\n      <th></th>\n      <th>Id</th>\n      <th>MSSubClass</th>\n      <th>MSZoning</th>\n      <th>LotFrontage</th>\n      <th>LotArea</th>\n      <th>Street</th>\n      <th>Alley</th>\n      <th>LotShape</th>\n      <th>LandContour</th>\n      <th>Utilities</th>\n      <th>...</th>\n      <th>PoolArea</th>\n      <th>PoolQC</th>\n      <th>Fence</th>\n      <th>MiscFeature</th>\n      <th>MiscVal</th>\n      <th>MoSold</th>\n      <th>YrSold</th>\n      <th>SaleType</th>\n      <th>SaleCondition</th>\n      <th>SalePrice</th>\n    </tr>\n  </thead>\n  <tbody>\n    <tr>\n      <th>0</th>\n      <td>1</td>\n      <td>60</td>\n      <td>RL</td>\n      <td>65.0</td>\n      <td>8450</td>\n      <td>Pave</td>\n      <td>NaN</td>\n      <td>Reg</td>\n      <td>Lvl</td>\n      <td>AllPub</td>\n      <td>...</td>\n      <td>0</td>\n      <td>NaN</td>\n      <td>NaN</td>\n      <td>NaN</td>\n      <td>0</td>\n      <td>2</td>\n      <td>2008</td>\n      <td>WD</td>\n      <td>Normal</td>\n      <td>208500</td>\n    </tr>\n    <tr>\n      <th>1</th>\n      <td>2</td>\n      <td>20</td>\n      <td>RL</td>\n      <td>80.0</td>\n      <td>9600</td>\n      <td>Pave</td>\n      <td>NaN</td>\n      <td>Reg</td>\n      <td>Lvl</td>\n      <td>AllPub</td>\n      <td>...</td>\n      <td>0</td>\n      <td>NaN</td>\n      <td>NaN</td>\n      <td>NaN</td>\n      <td>0</td>\n      <td>5</td>\n      <td>2007</td>\n      <td>WD</td>\n      <td>Normal</td>\n      <td>181500</td>\n    </tr>\n    <tr>\n      <th>2</th>\n      <td>3</td>\n      <td>60</td>\n      <td>RL</td>\n      <td>68.0</td>\n      <td>11250</td>\n      <td>Pave</td>\n      <td>NaN</td>\n      <td>IR1</td>\n      <td>Lvl</td>\n      <td>AllPub</td>\n      <td>...</td>\n      <td>0</td>\n      <td>NaN</td>\n      <td>NaN</td>\n      <td>NaN</td>\n      <td>0</td>\n      <td>9</td>\n      <td>2008</td>\n      <td>WD</td>\n      <td>Normal</td>\n      <td>223500</td>\n    </tr>\n    <tr>\n      <th>3</th>\n      <td>4</td>\n      <td>70</td>\n      <td>RL</td>\n      <td>60.0</td>\n      <td>9550</td>\n      <td>Pave</td>\n      <td>NaN</td>\n      <td>IR1</td>\n      <td>Lvl</td>\n      <td>AllPub</td>\n      <td>...</td>\n      <td>0</td>\n      <td>NaN</td>\n      <td>NaN</td>\n      <td>NaN</td>\n      <td>0</td>\n      <td>2</td>\n      <td>2006</td>\n      <td>WD</td>\n      <td>Abnorml</td>\n      <td>140000</td>\n    </tr>\n    <tr>\n      <th>4</th>\n      <td>5</td>\n      <td>60</td>\n      <td>RL</td>\n      <td>84.0</td>\n      <td>14260</td>\n      <td>Pave</td>\n      <td>NaN</td>\n      <td>IR1</td>\n      <td>Lvl</td>\n      <td>AllPub</td>\n      <td>...</td>\n      <td>0</td>\n      <td>NaN</td>\n      <td>NaN</td>\n      <td>NaN</td>\n      <td>0</td>\n      <td>12</td>\n      <td>2008</td>\n      <td>WD</td>\n      <td>Normal</td>\n      <td>250000</td>\n    </tr>\n  </tbody>\n</table>\n<p>5 rows × 81 columns</p>\n</div>"
     },
     "metadata": {},
     "execution_count": 4
    }
   ],
   "source": [
    "train.head()"
   ]
  },
  {
   "cell_type": "code",
   "execution_count": 5,
   "metadata": {},
   "outputs": [],
   "source": [
    "import matplotlib.pyplot as plt\n",
    "plt.style.use(style='ggplot')\n",
    "plt.rcParams['figure.figsize'] = (10, 6)"
   ]
  },
  {
   "cell_type": "code",
   "execution_count": 6,
   "metadata": {},
   "outputs": [
    {
     "output_type": "execute_result",
     "data": {
      "text/plain": "Id                 int64\nMSSubClass         int64\nLotFrontage      float64\nLotArea            int64\nOverallQual        int64\nOverallCond        int64\nYearBuilt          int64\nYearRemodAdd       int64\nMasVnrArea       float64\nBsmtFinSF1         int64\nBsmtFinSF2         int64\nBsmtUnfSF          int64\nTotalBsmtSF        int64\n1stFlrSF           int64\n2ndFlrSF           int64\nLowQualFinSF       int64\nGrLivArea          int64\nBsmtFullBath       int64\nBsmtHalfBath       int64\nFullBath           int64\nHalfBath           int64\nBedroomAbvGr       int64\nKitchenAbvGr       int64\nTotRmsAbvGrd       int64\nFireplaces         int64\nGarageYrBlt      float64\nGarageCars         int64\nGarageArea         int64\nWoodDeckSF         int64\nOpenPorchSF        int64\nEnclosedPorch      int64\n3SsnPorch          int64\nScreenPorch        int64\nPoolArea           int64\nMiscVal            int64\nMoSold             int64\nYrSold             int64\nSalePrice          int64\ndtype: object"
     },
     "metadata": {},
     "execution_count": 6
    }
   ],
   "source": [
    "numeric_features = train.select_dtypes(include=[np.number])\n",
    "numeric_features.dtypes"
   ]
  },
  {
   "cell_type": "code",
   "execution_count": 7,
   "metadata": {},
   "outputs": [
    {
     "output_type": "execute_result",
     "data": {
      "text/plain": "       MSZoning Street Alley LotShape LandContour Utilities LotConfig  \\\ncount      1460   1460    91     1460        1460      1460      1460   \nunique        5      2     2        4           4         2         5   \ntop          RL   Pave  Grvl      Reg         Lvl    AllPub    Inside   \nfreq       1151   1454    50      925        1311      1459      1052   \n\n       LandSlope Neighborhood Condition1  ... GarageType GarageFinish  \\\ncount       1460         1460       1460  ...       1379         1379   \nunique         3           25          9  ...          6            3   \ntop          Gtl        NAmes       Norm  ...     Attchd          Unf   \nfreq        1382          225       1260  ...        870          605   \n\n       GarageQual GarageCond PavedDrive PoolQC  Fence MiscFeature SaleType  \\\ncount        1379       1379       1460      7    281          54     1460   \nunique          5          5          3      3      4           4        9   \ntop            TA         TA          Y     Gd  MnPrv        Shed       WD   \nfreq         1311       1326       1340      3    157          49     1267   \n\n       SaleCondition  \ncount           1460  \nunique             6  \ntop           Normal  \nfreq            1198  \n\n[4 rows x 43 columns]",
      "text/html": "<div>\n<style scoped>\n    .dataframe tbody tr th:only-of-type {\n        vertical-align: middle;\n    }\n\n    .dataframe tbody tr th {\n        vertical-align: top;\n    }\n\n    .dataframe thead th {\n        text-align: right;\n    }\n</style>\n<table border=\"1\" class=\"dataframe\">\n  <thead>\n    <tr style=\"text-align: right;\">\n      <th></th>\n      <th>MSZoning</th>\n      <th>Street</th>\n      <th>Alley</th>\n      <th>LotShape</th>\n      <th>LandContour</th>\n      <th>Utilities</th>\n      <th>LotConfig</th>\n      <th>LandSlope</th>\n      <th>Neighborhood</th>\n      <th>Condition1</th>\n      <th>...</th>\n      <th>GarageType</th>\n      <th>GarageFinish</th>\n      <th>GarageQual</th>\n      <th>GarageCond</th>\n      <th>PavedDrive</th>\n      <th>PoolQC</th>\n      <th>Fence</th>\n      <th>MiscFeature</th>\n      <th>SaleType</th>\n      <th>SaleCondition</th>\n    </tr>\n  </thead>\n  <tbody>\n    <tr>\n      <th>count</th>\n      <td>1460</td>\n      <td>1460</td>\n      <td>91</td>\n      <td>1460</td>\n      <td>1460</td>\n      <td>1460</td>\n      <td>1460</td>\n      <td>1460</td>\n      <td>1460</td>\n      <td>1460</td>\n      <td>...</td>\n      <td>1379</td>\n      <td>1379</td>\n      <td>1379</td>\n      <td>1379</td>\n      <td>1460</td>\n      <td>7</td>\n      <td>281</td>\n      <td>54</td>\n      <td>1460</td>\n      <td>1460</td>\n    </tr>\n    <tr>\n      <th>unique</th>\n      <td>5</td>\n      <td>2</td>\n      <td>2</td>\n      <td>4</td>\n      <td>4</td>\n      <td>2</td>\n      <td>5</td>\n      <td>3</td>\n      <td>25</td>\n      <td>9</td>\n      <td>...</td>\n      <td>6</td>\n      <td>3</td>\n      <td>5</td>\n      <td>5</td>\n      <td>3</td>\n      <td>3</td>\n      <td>4</td>\n      <td>4</td>\n      <td>9</td>\n      <td>6</td>\n    </tr>\n    <tr>\n      <th>top</th>\n      <td>RL</td>\n      <td>Pave</td>\n      <td>Grvl</td>\n      <td>Reg</td>\n      <td>Lvl</td>\n      <td>AllPub</td>\n      <td>Inside</td>\n      <td>Gtl</td>\n      <td>NAmes</td>\n      <td>Norm</td>\n      <td>...</td>\n      <td>Attchd</td>\n      <td>Unf</td>\n      <td>TA</td>\n      <td>TA</td>\n      <td>Y</td>\n      <td>Gd</td>\n      <td>MnPrv</td>\n      <td>Shed</td>\n      <td>WD</td>\n      <td>Normal</td>\n    </tr>\n    <tr>\n      <th>freq</th>\n      <td>1151</td>\n      <td>1454</td>\n      <td>50</td>\n      <td>925</td>\n      <td>1311</td>\n      <td>1459</td>\n      <td>1052</td>\n      <td>1382</td>\n      <td>225</td>\n      <td>1260</td>\n      <td>...</td>\n      <td>870</td>\n      <td>605</td>\n      <td>1311</td>\n      <td>1326</td>\n      <td>1340</td>\n      <td>3</td>\n      <td>157</td>\n      <td>49</td>\n      <td>1267</td>\n      <td>1198</td>\n    </tr>\n  </tbody>\n</table>\n<p>4 rows × 43 columns</p>\n</div>"
     },
     "metadata": {},
     "execution_count": 7
    }
   ],
   "source": [
    "categoricals = train.select_dtypes(exclude=[np.number])\n",
    "categoricals.describe()"
   ]
  },
  {
   "cell_type": "code",
   "execution_count": 8,
   "metadata": {},
   "outputs": [
    {
     "output_type": "stream",
     "name": "stdout",
     "text": "Pave    1454\nGrvl       6\nName: Street, dtype: int64 \n\n"
    }
   ],
   "source": [
    "print (train.Street.value_counts(), \"\\n\")"
   ]
  },
  {
   "cell_type": "code",
   "execution_count": 9,
   "metadata": {},
   "outputs": [
    {
     "output_type": "stream",
     "name": "stdout",
     "text": "WD       1267\nNew       122\nCOD        43\nConLD       9\nConLI       5\nConLw       5\nCWD         4\nOth         3\nCon         2\nName: SaleType, dtype: int64 \n\n"
    }
   ],
   "source": [
    "print (train.SaleType.value_counts(), \"\\n\")"
   ]
  },
  {
   "cell_type": "code",
   "execution_count": 10,
   "metadata": {},
   "outputs": [],
   "source": [
    "# x=train['Street'].value_counts().index.tolist()\n",
    "# print(x[0])"
   ]
  },
  {
   "cell_type": "code",
   "execution_count": 11,
   "metadata": {},
   "outputs": [],
   "source": [
    "# print (train.MSZoning.value_counts(), \"\\n\")\n",
    "# print(type(train))"
   ]
  },
  {
   "cell_type": "code",
   "execution_count": 12,
   "metadata": {},
   "outputs": [],
   "source": [
    "# a=train.pivot_table(index='MSZoning',values='SalePrice',aggfunc=np.median)\n",
    "# b=a.sort_values(by=['SalePrice'])\n",
    "# print(b)"
   ]
  },
  {
   "cell_type": "code",
   "execution_count": 13,
   "metadata": {},
   "outputs": [],
   "source": [
    "# c=b['SalePrice'].index.tolist()\n",
    "# d=b['SalePrice'].values.tolist()"
   ]
  },
  {
   "cell_type": "code",
   "execution_count": 14,
   "metadata": {},
   "outputs": [],
   "source": [
    "    # y=train['MSZoning'].value_counts().index.tolist()\n",
    "    # n=len(y)\n",
    "    # def ham(x):\n",
    "    #     for i in range(len(y)):\n",
    "    #         if(x == c[i]): return d[i]/d[0]\n",
    "    # train['MSZoning']=train['MSZoning'].apply(ham)\n",
    ""
   ]
  },
  {
   "cell_type": "code",
   "execution_count": 15,
   "metadata": {},
   "outputs": [],
   "source": [
    "# condition_pivot = train.pivot_table(index='MSZoning', values='SalePrice', aggfunc=np.median)\n",
    "# condition_pivot.plot(kind='bar', color='blue')\n",
    "# plt.xlabel('MSZoning')\n",
    "# plt.ylabel('Median Sale Price')\n",
    "# plt.xticks(rotation=0)\n",
    "# plt.show()"
   ]
  },
  {
   "cell_type": "code",
   "execution_count": 16,
   "metadata": {},
   "outputs": [],
   "source": [
    "def encode(name):\n",
    "    a=train.pivot_table(index=name,values='SalePrice',aggfunc=np.median)\n",
    "    b=a.sort_values(by=['SalePrice'])\n",
    "    c=b['SalePrice'].index.tolist()\n",
    "    d=b['SalePrice'].values.tolist()\n",
    "    y=train[name].value_counts().index.tolist()\n",
    "    n=len(y)\n",
    "    def ham(x):\n",
    "        for i in range(len(y)):\n",
    "            if(x == c[i]): return round(d[i]/d[0],2)\n",
    "    train[name]=train[name].apply(ham)"
   ]
  },
  {
   "cell_type": "code",
   "execution_count": 17,
   "metadata": {},
   "outputs": [],
   "source": [
    "columns=['MSZoning','Street','Alley','LotShape','LandContour','Utilities','LotConfig','LandSlope','Neighborhood','Condition1','Condition2','BldgType','HouseStyle','SaleType','SaleCondition','ExterCond','ExterQual','Foundation','BsmtQual','BsmtCond','BsmtExposure','BsmtFinType1','BsmtFinType2', 'RoofStyle','RoofMatl','Exterior1st','Exterior2nd','MasVnrType','Heating','HeatingQC', 'CentralAir','Electrical','KitchenQual','Functional',\n",
    " 'FireplaceQu','GarageType','GarageFinish','GarageQual','GarageCond','PavedDrive']"
   ]
  },
  {
   "cell_type": "code",
   "execution_count": 18,
   "metadata": {},
   "outputs": [
    {
     "output_type": "execute_result",
     "data": {
      "text/plain": "40"
     },
     "metadata": {},
     "execution_count": 18
    }
   ],
   "source": [
    "len(columns)"
   ]
  },
  {
   "cell_type": "code",
   "execution_count": 19,
   "metadata": {},
   "outputs": [],
   "source": [
    "for i in range(len(columns)):\n",
    "    encode(columns[i])"
   ]
  },
  {
   "cell_type": "code",
   "execution_count": 20,
   "metadata": {},
   "outputs": [
    {
     "output_type": "execute_result",
     "data": {
      "text/plain": "   Id  MSSubClass  MSZoning  LotFrontage  LotArea  Street  Alley  LotShape  \\\n0   1          60      2.33         65.0     8450    1.43    NaN      1.00   \n1   2          20      2.33         80.0     9600    1.43    NaN      1.00   \n2   3          60      2.33         68.0    11250    1.43    NaN      1.29   \n3   4          70      2.33         60.0     9550    1.43    NaN      1.29   \n4   5          60      2.33         84.0    14260    1.43    NaN      1.29   \n\n   LandContour  Utilities  ...  PoolArea  PoolQC  Fence  MiscFeature  MiscVal  \\\n0         1.17       1.19  ...         0     NaN    NaN          NaN        0   \n1         1.17       1.19  ...         0     NaN    NaN          NaN        0   \n2         1.17       1.19  ...         0     NaN    NaN          NaN        0   \n3         1.17       1.19  ...         0     NaN    NaN          NaN        0   \n4         1.17       1.19  ...         0     NaN    NaN          NaN        0   \n\n   MoSold  YrSold  SaleType  SaleCondition  SalePrice  \n0       2    2008      1.36           1.54     208500  \n1       5    2007      1.36           1.54     181500  \n2       9    2008      1.36           1.54     223500  \n3       2    2006      1.36           1.25     140000  \n4      12    2008      1.36           1.54     250000  \n\n[5 rows x 81 columns]",
      "text/html": "<div>\n<style scoped>\n    .dataframe tbody tr th:only-of-type {\n        vertical-align: middle;\n    }\n\n    .dataframe tbody tr th {\n        vertical-align: top;\n    }\n\n    .dataframe thead th {\n        text-align: right;\n    }\n</style>\n<table border=\"1\" class=\"dataframe\">\n  <thead>\n    <tr style=\"text-align: right;\">\n      <th></th>\n      <th>Id</th>\n      <th>MSSubClass</th>\n      <th>MSZoning</th>\n      <th>LotFrontage</th>\n      <th>LotArea</th>\n      <th>Street</th>\n      <th>Alley</th>\n      <th>LotShape</th>\n      <th>LandContour</th>\n      <th>Utilities</th>\n      <th>...</th>\n      <th>PoolArea</th>\n      <th>PoolQC</th>\n      <th>Fence</th>\n      <th>MiscFeature</th>\n      <th>MiscVal</th>\n      <th>MoSold</th>\n      <th>YrSold</th>\n      <th>SaleType</th>\n      <th>SaleCondition</th>\n      <th>SalePrice</th>\n    </tr>\n  </thead>\n  <tbody>\n    <tr>\n      <th>0</th>\n      <td>1</td>\n      <td>60</td>\n      <td>2.33</td>\n      <td>65.0</td>\n      <td>8450</td>\n      <td>1.43</td>\n      <td>NaN</td>\n      <td>1.00</td>\n      <td>1.17</td>\n      <td>1.19</td>\n      <td>...</td>\n      <td>0</td>\n      <td>NaN</td>\n      <td>NaN</td>\n      <td>NaN</td>\n      <td>0</td>\n      <td>2</td>\n      <td>2008</td>\n      <td>1.36</td>\n      <td>1.54</td>\n      <td>208500</td>\n    </tr>\n    <tr>\n      <th>1</th>\n      <td>2</td>\n      <td>20</td>\n      <td>2.33</td>\n      <td>80.0</td>\n      <td>9600</td>\n      <td>1.43</td>\n      <td>NaN</td>\n      <td>1.00</td>\n      <td>1.17</td>\n      <td>1.19</td>\n      <td>...</td>\n      <td>0</td>\n      <td>NaN</td>\n      <td>NaN</td>\n      <td>NaN</td>\n      <td>0</td>\n      <td>5</td>\n      <td>2007</td>\n      <td>1.36</td>\n      <td>1.54</td>\n      <td>181500</td>\n    </tr>\n    <tr>\n      <th>2</th>\n      <td>3</td>\n      <td>60</td>\n      <td>2.33</td>\n      <td>68.0</td>\n      <td>11250</td>\n      <td>1.43</td>\n      <td>NaN</td>\n      <td>1.29</td>\n      <td>1.17</td>\n      <td>1.19</td>\n      <td>...</td>\n      <td>0</td>\n      <td>NaN</td>\n      <td>NaN</td>\n      <td>NaN</td>\n      <td>0</td>\n      <td>9</td>\n      <td>2008</td>\n      <td>1.36</td>\n      <td>1.54</td>\n      <td>223500</td>\n    </tr>\n    <tr>\n      <th>3</th>\n      <td>4</td>\n      <td>70</td>\n      <td>2.33</td>\n      <td>60.0</td>\n      <td>9550</td>\n      <td>1.43</td>\n      <td>NaN</td>\n      <td>1.29</td>\n      <td>1.17</td>\n      <td>1.19</td>\n      <td>...</td>\n      <td>0</td>\n      <td>NaN</td>\n      <td>NaN</td>\n      <td>NaN</td>\n      <td>0</td>\n      <td>2</td>\n      <td>2006</td>\n      <td>1.36</td>\n      <td>1.25</td>\n      <td>140000</td>\n    </tr>\n    <tr>\n      <th>4</th>\n      <td>5</td>\n      <td>60</td>\n      <td>2.33</td>\n      <td>84.0</td>\n      <td>14260</td>\n      <td>1.43</td>\n      <td>NaN</td>\n      <td>1.29</td>\n      <td>1.17</td>\n      <td>1.19</td>\n      <td>...</td>\n      <td>0</td>\n      <td>NaN</td>\n      <td>NaN</td>\n      <td>NaN</td>\n      <td>0</td>\n      <td>12</td>\n      <td>2008</td>\n      <td>1.36</td>\n      <td>1.54</td>\n      <td>250000</td>\n    </tr>\n  </tbody>\n</table>\n<p>5 rows × 81 columns</p>\n</div>"
     },
     "metadata": {},
     "execution_count": 20
    }
   ],
   "source": [
    "train.head()"
   ]
  },
  {
   "cell_type": "code",
   "execution_count": 22,
   "metadata": {},
   "outputs": [
    {
     "output_type": "execute_result",
     "data": {
      "text/plain": "                Id   MSSubClass     MSZoning  LotFrontage        LotArea  \\\ncount  1460.000000  1460.000000  1460.000000  1201.000000    1460.000000   \nmean    730.500000    56.897260     2.227048    70.049958   10516.828082   \nstd     421.610009    42.300571     0.299925    24.284752    9981.264932   \nmin       1.000000    20.000000     1.000000    21.000000    1300.000000   \n25%     365.750000    20.000000     2.330000    59.000000    7553.500000   \n50%     730.500000    50.000000     2.330000    69.000000    9478.500000   \n75%    1095.250000    70.000000     2.330000    80.000000   11601.500000   \nmax    1460.000000   190.000000     2.760000   313.000000  215245.000000   \n\n            Street      Alley     LotShape  LandContour    Utilities  ...  \\\ncount  1460.000000  91.000000  1460.000000  1460.000000  1460.000000  ...   \nmean      1.428233   1.198242     1.113130     1.181733     1.189870  ...   \nstd       0.027518   0.220134     0.153112     0.089700     0.004973  ...   \nmin       1.000000   1.000000     1.000000     1.000000     1.000000  ...   \n25%       1.430000   1.000000     1.000000     1.170000     1.190000  ...   \n50%       1.430000   1.000000     1.000000     1.170000     1.190000  ...   \n75%       1.430000   1.440000     1.290000     1.170000     1.190000  ...   \nmax       1.430000   1.440000     1.510000     1.590000     1.190000  ...   \n\n       EnclosedPorch    3SsnPorch  ScreenPorch     PoolArea       MiscVal  \\\ncount    1460.000000  1460.000000  1460.000000  1460.000000   1460.000000   \nmean       21.954110     3.409589    15.060959     2.758904     43.489041   \nstd        61.119149    29.317331    55.757415    40.177307    496.123024   \nmin         0.000000     0.000000     0.000000     0.000000      0.000000   \n25%         0.000000     0.000000     0.000000     0.000000      0.000000   \n50%         0.000000     0.000000     0.000000     0.000000      0.000000   \n75%         0.000000     0.000000     0.000000     0.000000      0.000000   \nmax       552.000000   508.000000   480.000000   738.000000  15500.000000   \n\n            MoSold       YrSold     SaleType  SaleCondition      SalePrice  \ncount  1460.000000  1460.000000  1460.000000    1460.000000    1460.000000  \nmean      6.321918  2007.815753     1.418651       1.584219  180921.195890  \nstd       2.703626     1.328095     0.221532       0.247971   79442.502883  \nmin       1.000000  2006.000000     1.000000       1.000000   34900.000000  \n25%       5.000000  2007.000000     1.360000       1.540000  129975.000000  \n50%       6.000000  2008.000000     1.360000       1.540000  163000.000000  \n75%       8.000000  2009.000000     1.360000       1.540000  214000.000000  \nmax      12.000000  2010.000000     2.320000       2.350000  755000.000000  \n\n[8 rows x 78 columns]",
      "text/html": "<div>\n<style scoped>\n    .dataframe tbody tr th:only-of-type {\n        vertical-align: middle;\n    }\n\n    .dataframe tbody tr th {\n        vertical-align: top;\n    }\n\n    .dataframe thead th {\n        text-align: right;\n    }\n</style>\n<table border=\"1\" class=\"dataframe\">\n  <thead>\n    <tr style=\"text-align: right;\">\n      <th></th>\n      <th>Id</th>\n      <th>MSSubClass</th>\n      <th>MSZoning</th>\n      <th>LotFrontage</th>\n      <th>LotArea</th>\n      <th>Street</th>\n      <th>Alley</th>\n      <th>LotShape</th>\n      <th>LandContour</th>\n      <th>Utilities</th>\n      <th>...</th>\n      <th>EnclosedPorch</th>\n      <th>3SsnPorch</th>\n      <th>ScreenPorch</th>\n      <th>PoolArea</th>\n      <th>MiscVal</th>\n      <th>MoSold</th>\n      <th>YrSold</th>\n      <th>SaleType</th>\n      <th>SaleCondition</th>\n      <th>SalePrice</th>\n    </tr>\n  </thead>\n  <tbody>\n    <tr>\n      <th>count</th>\n      <td>1460.000000</td>\n      <td>1460.000000</td>\n      <td>1460.000000</td>\n      <td>1201.000000</td>\n      <td>1460.000000</td>\n      <td>1460.000000</td>\n      <td>91.000000</td>\n      <td>1460.000000</td>\n      <td>1460.000000</td>\n      <td>1460.000000</td>\n      <td>...</td>\n      <td>1460.000000</td>\n      <td>1460.000000</td>\n      <td>1460.000000</td>\n      <td>1460.000000</td>\n      <td>1460.000000</td>\n      <td>1460.000000</td>\n      <td>1460.000000</td>\n      <td>1460.000000</td>\n      <td>1460.000000</td>\n      <td>1460.000000</td>\n    </tr>\n    <tr>\n      <th>mean</th>\n      <td>730.500000</td>\n      <td>56.897260</td>\n      <td>2.227048</td>\n      <td>70.049958</td>\n      <td>10516.828082</td>\n      <td>1.428233</td>\n      <td>1.198242</td>\n      <td>1.113130</td>\n      <td>1.181733</td>\n      <td>1.189870</td>\n      <td>...</td>\n      <td>21.954110</td>\n      <td>3.409589</td>\n      <td>15.060959</td>\n      <td>2.758904</td>\n      <td>43.489041</td>\n      <td>6.321918</td>\n      <td>2007.815753</td>\n      <td>1.418651</td>\n      <td>1.584219</td>\n      <td>180921.195890</td>\n    </tr>\n    <tr>\n      <th>std</th>\n      <td>421.610009</td>\n      <td>42.300571</td>\n      <td>0.299925</td>\n      <td>24.284752</td>\n      <td>9981.264932</td>\n      <td>0.027518</td>\n      <td>0.220134</td>\n      <td>0.153112</td>\n      <td>0.089700</td>\n      <td>0.004973</td>\n      <td>...</td>\n      <td>61.119149</td>\n      <td>29.317331</td>\n      <td>55.757415</td>\n      <td>40.177307</td>\n      <td>496.123024</td>\n      <td>2.703626</td>\n      <td>1.328095</td>\n      <td>0.221532</td>\n      <td>0.247971</td>\n      <td>79442.502883</td>\n    </tr>\n    <tr>\n      <th>min</th>\n      <td>1.000000</td>\n      <td>20.000000</td>\n      <td>1.000000</td>\n      <td>21.000000</td>\n      <td>1300.000000</td>\n      <td>1.000000</td>\n      <td>1.000000</td>\n      <td>1.000000</td>\n      <td>1.000000</td>\n      <td>1.000000</td>\n      <td>...</td>\n      <td>0.000000</td>\n      <td>0.000000</td>\n      <td>0.000000</td>\n      <td>0.000000</td>\n      <td>0.000000</td>\n      <td>1.000000</td>\n      <td>2006.000000</td>\n      <td>1.000000</td>\n      <td>1.000000</td>\n      <td>34900.000000</td>\n    </tr>\n    <tr>\n      <th>25%</th>\n      <td>365.750000</td>\n      <td>20.000000</td>\n      <td>2.330000</td>\n      <td>59.000000</td>\n      <td>7553.500000</td>\n      <td>1.430000</td>\n      <td>1.000000</td>\n      <td>1.000000</td>\n      <td>1.170000</td>\n      <td>1.190000</td>\n      <td>...</td>\n      <td>0.000000</td>\n      <td>0.000000</td>\n      <td>0.000000</td>\n      <td>0.000000</td>\n      <td>0.000000</td>\n      <td>5.000000</td>\n      <td>2007.000000</td>\n      <td>1.360000</td>\n      <td>1.540000</td>\n      <td>129975.000000</td>\n    </tr>\n    <tr>\n      <th>50%</th>\n      <td>730.500000</td>\n      <td>50.000000</td>\n      <td>2.330000</td>\n      <td>69.000000</td>\n      <td>9478.500000</td>\n      <td>1.430000</td>\n      <td>1.000000</td>\n      <td>1.000000</td>\n      <td>1.170000</td>\n      <td>1.190000</td>\n      <td>...</td>\n      <td>0.000000</td>\n      <td>0.000000</td>\n      <td>0.000000</td>\n      <td>0.000000</td>\n      <td>0.000000</td>\n      <td>6.000000</td>\n      <td>2008.000000</td>\n      <td>1.360000</td>\n      <td>1.540000</td>\n      <td>163000.000000</td>\n    </tr>\n    <tr>\n      <th>75%</th>\n      <td>1095.250000</td>\n      <td>70.000000</td>\n      <td>2.330000</td>\n      <td>80.000000</td>\n      <td>11601.500000</td>\n      <td>1.430000</td>\n      <td>1.440000</td>\n      <td>1.290000</td>\n      <td>1.170000</td>\n      <td>1.190000</td>\n      <td>...</td>\n      <td>0.000000</td>\n      <td>0.000000</td>\n      <td>0.000000</td>\n      <td>0.000000</td>\n      <td>0.000000</td>\n      <td>8.000000</td>\n      <td>2009.000000</td>\n      <td>1.360000</td>\n      <td>1.540000</td>\n      <td>214000.000000</td>\n    </tr>\n    <tr>\n      <th>max</th>\n      <td>1460.000000</td>\n      <td>190.000000</td>\n      <td>2.760000</td>\n      <td>313.000000</td>\n      <td>215245.000000</td>\n      <td>1.430000</td>\n      <td>1.440000</td>\n      <td>1.510000</td>\n      <td>1.590000</td>\n      <td>1.190000</td>\n      <td>...</td>\n      <td>552.000000</td>\n      <td>508.000000</td>\n      <td>480.000000</td>\n      <td>738.000000</td>\n      <td>15500.000000</td>\n      <td>12.000000</td>\n      <td>2010.000000</td>\n      <td>2.320000</td>\n      <td>2.350000</td>\n      <td>755000.000000</td>\n    </tr>\n  </tbody>\n</table>\n<p>8 rows × 78 columns</p>\n</div>"
     },
     "metadata": {},
     "execution_count": 22
    }
   ],
   "source": [
    "numeric_features = train.select_dtypes(include=[np.number])\n",
    "numeric_features.describe()"
   ]
  },
  {
   "cell_type": "code",
   "execution_count": 200,
   "metadata": {},
   "outputs": [],
   "source": [
    "train.to_csv('train3.csv')"
   ]
  }
 ]
}